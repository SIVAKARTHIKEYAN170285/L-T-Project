{
 "cells": [
  {
   "cell_type": "code",
   "execution_count": 41,
   "metadata": {},
   "outputs": [],
   "source": [
    "import pandas as pd\n",
    "from sklearn.model_selection import train_test_split\n",
    "from sklearn.feature_extraction.text import TfidfVectorizer\n",
    "from sklearn.svm import SVC\n",
    "from sklearn.naive_bayes import MultinomialNB\n",
    "from sklearn.linear_model import LogisticRegression\n",
    "from sklearn.metrics import classification_report\n"
   ]
  },
  {
   "cell_type": "code",
   "execution_count": 1,
   "metadata": {},
   "outputs": [
    {
     "name": "stdout",
     "output_type": "stream",
     "text": [
      "Collecting scikit-learn\n",
      "  Downloading scikit_learn-1.6.0-cp312-cp312-win_amd64.whl.metadata (15 kB)\n",
      "Collecting numpy>=1.19.5 (from scikit-learn)\n",
      "  Downloading numpy-2.2.0-cp312-cp312-win_amd64.whl.metadata (60 kB)\n",
      "     ---------------------------------------- 0.0/60.8 kB ? eta -:--:--\n",
      "     --------------------------------- ------ 51.2/60.8 kB 1.3 MB/s eta 0:00:01\n",
      "     --------------------------------- ------ 51.2/60.8 kB 1.3 MB/s eta 0:00:01\n",
      "     -------------------------------------- 60.8/60.8 kB 404.8 kB/s eta 0:00:00\n",
      "Collecting scipy>=1.6.0 (from scikit-learn)\n",
      "  Downloading scipy-1.14.1-cp312-cp312-win_amd64.whl.metadata (60 kB)\n",
      "     ---------------------------------------- 0.0/60.8 kB ? eta -:--:--\n",
      "     --------------------------------- ------ 51.2/60.8 kB ? eta -:--:--\n",
      "     -------------------------------------- 60.8/60.8 kB 815.1 kB/s eta 0:00:00\n",
      "Requirement already satisfied: joblib>=1.2.0 in c:\\users\\mits\\appdata\\local\\programs\\python\\python312\\lib\\site-packages (from scikit-learn) (1.4.2)\n",
      "Collecting threadpoolctl>=3.1.0 (from scikit-learn)\n",
      "  Downloading threadpoolctl-3.5.0-py3-none-any.whl.metadata (13 kB)\n",
      "Downloading scikit_learn-1.6.0-cp312-cp312-win_amd64.whl (11.1 MB)\n",
      "   ---------------------------------------- 0.0/11.1 MB ? eta -:--:--\n",
      "   - -------------------------------------- 0.4/11.1 MB 7.4 MB/s eta 0:00:02\n",
      "   -- ------------------------------------- 0.8/11.1 MB 8.5 MB/s eta 0:00:02\n",
      "   ---- ----------------------------------- 1.2/11.1 MB 8.5 MB/s eta 0:00:02\n",
      "   ------ --------------------------------- 1.8/11.1 MB 10.4 MB/s eta 0:00:01\n",
      "   -------- ------------------------------- 2.4/11.1 MB 10.2 MB/s eta 0:00:01\n",
      "   ---------- ----------------------------- 3.0/11.1 MB 11.3 MB/s eta 0:00:01\n",
      "   ------------- -------------------------- 3.8/11.1 MB 11.5 MB/s eta 0:00:01\n",
      "   ---------------- ----------------------- 4.6/11.1 MB 12.1 MB/s eta 0:00:01\n",
      "   ------------------ --------------------- 5.3/11.1 MB 12.5 MB/s eta 0:00:01\n",
      "   ------------------- -------------------- 5.5/11.1 MB 12.5 MB/s eta 0:00:01\n",
      "   ----------------------- ---------------- 6.5/11.1 MB 12.2 MB/s eta 0:00:01\n",
      "   ------------------------- -------------- 7.0/11.1 MB 12.2 MB/s eta 0:00:01\n",
      "   --------------------------- ------------ 7.6/11.1 MB 12.2 MB/s eta 0:00:01\n",
      "   ----------------------------- ---------- 8.1/11.1 MB 12.0 MB/s eta 0:00:01\n",
      "   ------------------------------- -------- 8.7/11.1 MB 12.1 MB/s eta 0:00:01\n",
      "   --------------------------------- ------ 9.3/11.1 MB 12.2 MB/s eta 0:00:01\n",
      "   ----------------------------------- ---- 9.9/11.1 MB 12.0 MB/s eta 0:00:01\n",
      "   ------------------------------------- -- 10.5/11.1 MB 12.1 MB/s eta 0:00:01\n",
      "   ---------------------------------------  11.1/11.1 MB 12.4 MB/s eta 0:00:01\n",
      "   ---------------------------------------  11.1/11.1 MB 12.4 MB/s eta 0:00:01\n",
      "   ---------------------------------------  11.1/11.1 MB 12.4 MB/s eta 0:00:01\n",
      "   ---------------------------------------  11.1/11.1 MB 12.4 MB/s eta 0:00:01\n",
      "   ---------------------------------------  11.1/11.1 MB 12.4 MB/s eta 0:00:01\n",
      "   ---------------------------------------  11.1/11.1 MB 12.4 MB/s eta 0:00:01\n",
      "   ---------------------------------------  11.1/11.1 MB 12.4 MB/s eta 0:00:01\n",
      "   ---------------------------------------  11.1/11.1 MB 12.4 MB/s eta 0:00:01\n",
      "   ---------------------------------------- 11.1/11.1 MB 8.4 MB/s eta 0:00:00\n",
      "Downloading numpy-2.2.0-cp312-cp312-win_amd64.whl (12.6 MB)\n",
      "   ---------------------------------------- 0.0/12.6 MB ? eta -:--:--\n",
      "   - -------------------------------------- 0.6/12.6 MB 18.2 MB/s eta 0:00:01\n",
      "   ---- ----------------------------------- 1.3/12.6 MB 13.5 MB/s eta 0:00:01\n",
      "   ----- ---------------------------------- 1.9/12.6 MB 13.2 MB/s eta 0:00:01\n",
      "   ------- -------------------------------- 2.4/12.6 MB 13.8 MB/s eta 0:00:01\n",
      "   --------- ------------------------------ 2.9/12.6 MB 12.3 MB/s eta 0:00:01\n",
      "   ----------- ---------------------------- 3.5/12.6 MB 13.2 MB/s eta 0:00:01\n",
      "   ------------ --------------------------- 4.1/12.6 MB 13.1 MB/s eta 0:00:01\n",
      "   --------------- ------------------------ 4.9/12.6 MB 12.9 MB/s eta 0:00:01\n",
      "   ---------------- ----------------------- 5.2/12.6 MB 12.5 MB/s eta 0:00:01\n",
      "   ------------------ --------------------- 6.0/12.6 MB 12.3 MB/s eta 0:00:01\n",
      "   -------------------- ------------------- 6.5/12.6 MB 12.6 MB/s eta 0:00:01\n",
      "   ----------------------- ---------------- 7.3/12.6 MB 12.5 MB/s eta 0:00:01\n",
      "   ------------------------ --------------- 7.8/12.6 MB 12.4 MB/s eta 0:00:01\n",
      "   -------------------------- ------------- 8.4/12.6 MB 12.2 MB/s eta 0:00:01\n",
      "   ----------------------------- ---------- 9.4/12.6 MB 12.1 MB/s eta 0:00:01\n",
      "   ------------------------------- -------- 10.0/12.6 MB 12.0 MB/s eta 0:00:01\n",
      "   --------------------------------- ------ 10.6/12.6 MB 11.9 MB/s eta 0:00:01\n",
      "   ------------------------------------ --- 11.4/12.6 MB 11.7 MB/s eta 0:00:01\n",
      "   -------------------------------------- - 12.1/12.6 MB 11.7 MB/s eta 0:00:01\n",
      "   ---------------------------------------  12.6/12.6 MB 11.7 MB/s eta 0:00:01\n",
      "   ---------------------------------------  12.6/12.6 MB 11.7 MB/s eta 0:00:01\n",
      "   ---------------------------------------  12.6/12.6 MB 11.7 MB/s eta 0:00:01\n",
      "   ---------------------------------------  12.6/12.6 MB 11.7 MB/s eta 0:00:01\n",
      "   ---------------------------------------  12.6/12.6 MB 11.7 MB/s eta 0:00:01\n",
      "   ---------------------------------------  12.6/12.6 MB 11.7 MB/s eta 0:00:01\n",
      "   ---------------------------------------- 12.6/12.6 MB 8.8 MB/s eta 0:00:00\n",
      "Downloading scipy-1.14.1-cp312-cp312-win_amd64.whl (44.5 MB)\n",
      "   ---------------------------------------- 0.0/44.5 MB ? eta -:--:--\n",
      "    --------------------------------------- 0.8/44.5 MB 16.8 MB/s eta 0:00:03\n",
      "   - -------------------------------------- 1.8/44.5 MB 15.9 MB/s eta 0:00:03\n",
      "   - -------------------------------------- 2.2/44.5 MB 13.9 MB/s eta 0:00:04\n",
      "   -- ------------------------------------- 2.5/44.5 MB 12.5 MB/s eta 0:00:04\n",
      "   -- ------------------------------------- 3.2/44.5 MB 12.6 MB/s eta 0:00:04\n",
      "   --- ------------------------------------ 3.8/44.5 MB 12.1 MB/s eta 0:00:04\n",
      "   --- ------------------------------------ 4.3/44.5 MB 12.5 MB/s eta 0:00:04\n",
      "   ---- ----------------------------------- 4.8/44.5 MB 12.2 MB/s eta 0:00:04\n",
      "   ---- ----------------------------------- 5.4/44.5 MB 12.4 MB/s eta 0:00:04\n",
      "   ----- ---------------------------------- 6.1/44.5 MB 12.1 MB/s eta 0:00:04\n",
      "   ----- ---------------------------------- 6.6/44.5 MB 12.3 MB/s eta 0:00:04\n",
      "   ------ --------------------------------- 7.2/44.5 MB 12.5 MB/s eta 0:00:03\n",
      "   ------- -------------------------------- 7.9/44.5 MB 12.6 MB/s eta 0:00:03\n",
      "   ------- -------------------------------- 8.6/44.5 MB 12.7 MB/s eta 0:00:03\n",
      "   -------- ------------------------------- 9.2/44.5 MB 12.8 MB/s eta 0:00:03\n",
      "   -------- ------------------------------- 9.9/44.5 MB 12.7 MB/s eta 0:00:03\n",
      "   --------- ------------------------------ 10.6/44.5 MB 12.8 MB/s eta 0:00:03\n",
      "   ---------- ----------------------------- 11.4/44.5 MB 12.6 MB/s eta 0:00:03\n",
      "   ---------- ----------------------------- 11.7/44.5 MB 12.1 MB/s eta 0:00:03\n",
      "   ---------- ----------------------------- 12.2/44.5 MB 12.1 MB/s eta 0:00:03\n",
      "   ----------- ---------------------------- 12.8/44.5 MB 12.4 MB/s eta 0:00:03\n",
      "   ----------- ---------------------------- 13.2/44.5 MB 12.4 MB/s eta 0:00:03\n",
      "   ------------ --------------------------- 13.8/44.5 MB 12.4 MB/s eta 0:00:03\n",
      "   ------------ --------------------------- 14.3/44.5 MB 12.1 MB/s eta 0:00:03\n",
      "   ------------- -------------------------- 14.8/44.5 MB 12.1 MB/s eta 0:00:03\n",
      "   ------------- -------------------------- 15.5/44.5 MB 11.9 MB/s eta 0:00:03\n",
      "   -------------- ------------------------- 16.0/44.5 MB 12.1 MB/s eta 0:00:03\n",
      "   -------------- ------------------------- 16.6/44.5 MB 11.9 MB/s eta 0:00:03\n",
      "   --------------- ------------------------ 17.2/44.5 MB 11.7 MB/s eta 0:00:03\n",
      "   --------------- ------------------------ 17.8/44.5 MB 11.7 MB/s eta 0:00:03\n",
      "   ---------------- ----------------------- 18.5/44.5 MB 11.7 MB/s eta 0:00:03\n",
      "   ----------------- ---------------------- 19.2/44.5 MB 11.7 MB/s eta 0:00:03\n",
      "   ----------------- ---------------------- 19.9/44.5 MB 11.5 MB/s eta 0:00:03\n",
      "   ------------------ --------------------- 20.5/44.5 MB 11.5 MB/s eta 0:00:03\n",
      "   ------------------ --------------------- 20.9/44.5 MB 11.7 MB/s eta 0:00:03\n",
      "   ------------------- -------------------- 21.5/44.5 MB 11.5 MB/s eta 0:00:03\n",
      "   ------------------- -------------------- 22.0/44.5 MB 11.7 MB/s eta 0:00:02\n",
      "   -------------------- ------------------- 22.4/44.5 MB 11.5 MB/s eta 0:00:02\n",
      "   -------------------- ------------------- 23.1/44.5 MB 11.5 MB/s eta 0:00:02\n",
      "   --------------------- ------------------ 23.8/44.5 MB 11.9 MB/s eta 0:00:02\n",
      "   --------------------- ------------------ 24.5/44.5 MB 11.7 MB/s eta 0:00:02\n",
      "   ---------------------- ----------------- 25.2/44.5 MB 12.1 MB/s eta 0:00:02\n",
      "   ----------------------- ---------------- 25.7/44.5 MB 12.3 MB/s eta 0:00:02\n",
      "   ----------------------- ---------------- 26.2/44.5 MB 11.7 MB/s eta 0:00:02\n",
      "   ------------------------ --------------- 26.9/44.5 MB 11.9 MB/s eta 0:00:02\n",
      "   ------------------------ --------------- 27.4/44.5 MB 11.9 MB/s eta 0:00:02\n",
      "   ------------------------- -------------- 28.0/44.5 MB 11.9 MB/s eta 0:00:02\n",
      "   ------------------------- -------------- 28.7/44.5 MB 12.1 MB/s eta 0:00:02\n",
      "   -------------------------- ------------- 29.2/44.5 MB 12.1 MB/s eta 0:00:02\n",
      "   -------------------------- ------------- 29.8/44.5 MB 11.9 MB/s eta 0:00:02\n",
      "   --------------------------- ------------ 30.3/44.5 MB 12.1 MB/s eta 0:00:02\n",
      "   --------------------------- ------------ 30.8/44.5 MB 12.1 MB/s eta 0:00:02\n",
      "   ---------------------------- ----------- 31.4/44.5 MB 12.4 MB/s eta 0:00:02\n",
      "   ---------------------------- ----------- 31.9/44.5 MB 12.1 MB/s eta 0:00:02\n",
      "   ----------------------------- ---------- 32.6/44.5 MB 12.6 MB/s eta 0:00:01\n",
      "   ----------------------------- ---------- 33.3/44.5 MB 12.3 MB/s eta 0:00:01\n",
      "   ------------------------------ --------- 33.9/44.5 MB 12.6 MB/s eta 0:00:01\n",
      "   ------------------------------ --------- 34.4/44.5 MB 12.4 MB/s eta 0:00:01\n",
      "   ------------------------------- -------- 35.1/44.5 MB 12.4 MB/s eta 0:00:01\n",
      "   -------------------------------- ------- 35.7/44.5 MB 12.4 MB/s eta 0:00:01\n",
      "   -------------------------------- ------- 36.3/44.5 MB 12.8 MB/s eta 0:00:01\n",
      "   -------------------------------- ------- 36.7/44.5 MB 12.4 MB/s eta 0:00:01\n",
      "   --------------------------------- ------ 37.2/44.5 MB 12.8 MB/s eta 0:00:01\n",
      "   --------------------------------- ------ 37.8/44.5 MB 12.8 MB/s eta 0:00:01\n",
      "   ---------------------------------- ----- 38.5/44.5 MB 12.8 MB/s eta 0:00:01\n",
      "   ----------------------------------- ---- 39.2/44.5 MB 13.1 MB/s eta 0:00:01\n",
      "   ----------------------------------- ---- 39.9/44.5 MB 13.1 MB/s eta 0:00:01\n",
      "   ------------------------------------ --- 40.4/44.5 MB 13.1 MB/s eta 0:00:01\n",
      "   ------------------------------------ --- 41.1/44.5 MB 13.4 MB/s eta 0:00:01\n",
      "   ------------------------------------- -- 41.4/44.5 MB 13.1 MB/s eta 0:00:01\n",
      "   ------------------------------------- -- 42.1/44.5 MB 13.1 MB/s eta 0:00:01\n",
      "   -------------------------------------- - 42.9/44.5 MB 13.6 MB/s eta 0:00:01\n",
      "   ---------------------------------------  43.5/44.5 MB 13.4 MB/s eta 0:00:01\n",
      "   ---------------------------------------  44.2/44.5 MB 13.4 MB/s eta 0:00:01\n",
      "   ---------------------------------------  44.5/44.5 MB 13.1 MB/s eta 0:00:01\n",
      "   ---------------------------------------  44.5/44.5 MB 13.1 MB/s eta 0:00:01\n",
      "   ---------------------------------------  44.5/44.5 MB 13.1 MB/s eta 0:00:01\n",
      "   ---------------------------------------  44.5/44.5 MB 13.1 MB/s eta 0:00:01\n",
      "   ---------------------------------------  44.5/44.5 MB 13.1 MB/s eta 0:00:01\n",
      "   ---------------------------------------  44.5/44.5 MB 13.1 MB/s eta 0:00:01\n",
      "   ---------------------------------------  44.5/44.5 MB 13.1 MB/s eta 0:00:01\n",
      "   ---------------------------------------  44.5/44.5 MB 13.1 MB/s eta 0:00:01\n",
      "   ---------------------------------------  44.5/44.5 MB 13.1 MB/s eta 0:00:01\n",
      "   ---------------------------------------  44.5/44.5 MB 13.1 MB/s eta 0:00:01\n",
      "   ---------------------------------------  44.5/44.5 MB 13.1 MB/s eta 0:00:01\n",
      "   ---------------------------------------  44.5/44.5 MB 13.1 MB/s eta 0:00:01\n",
      "   ---------------------------------------  44.5/44.5 MB 13.1 MB/s eta 0:00:01\n",
      "   ---------------------------------------  44.5/44.5 MB 13.1 MB/s eta 0:00:01\n",
      "   ---------------------------------------  44.5/44.5 MB 13.1 MB/s eta 0:00:01\n",
      "   ---------------------------------------  44.5/44.5 MB 13.1 MB/s eta 0:00:01\n",
      "   ---------------------------------------  44.5/44.5 MB 13.1 MB/s eta 0:00:01\n",
      "   ---------------------------------------- 44.5/44.5 MB 6.5 MB/s eta 0:00:00\n",
      "Downloading threadpoolctl-3.5.0-py3-none-any.whl (18 kB)\n",
      "Installing collected packages: threadpoolctl, numpy, scipy, scikit-learn\n",
      "Successfully installed numpy-2.2.0 scikit-learn-1.6.0 scipy-1.14.1 threadpoolctl-3.5.0\n",
      "Note: you may need to restart the kernel to use updated packages.\n"
     ]
    },
    {
     "name": "stderr",
     "output_type": "stream",
     "text": [
      "  WARNING: The scripts f2py.exe and numpy-config.exe are installed in 'c:\\Users\\MITS\\AppData\\Local\\Programs\\Python\\Python312\\Scripts' which is not on PATH.\n",
      "  Consider adding this directory to PATH or, if you prefer to suppress this warning, use --no-warn-script-location.\n",
      "\n",
      "[notice] A new release of pip is available: 24.0 -> 24.3.1\n",
      "[notice] To update, run: python.exe -m pip install --upgrade pip\n"
     ]
    }
   ],
   "source": [
    "%pip install scikit-learn\n"
   ]
  },
  {
   "cell_type": "code",
   "execution_count": 42,
   "metadata": {},
   "outputs": [],
   "source": [
    "# Load dataset\n",
    "data = pd.read_csv(r'H:\\Project\\Spam Email Detection\\emails.csv', encoding='latin-1')"
   ]
  },
  {
   "cell_type": "code",
   "execution_count": 43,
   "metadata": {},
   "outputs": [],
   "source": [
    "# Drop unnecessary columns and rename for clarity\n",
    "data = data[['text', 'spam']]\n",
    "data.columns = ['EmailText', 'Label']"
   ]
  },
  {
   "cell_type": "code",
   "execution_count": 44,
   "metadata": {},
   "outputs": [
    {
     "data": {
      "text/plain": [
       "['vectorizer.pkl']"
      ]
     },
     "execution_count": 44,
     "metadata": {},
     "output_type": "execute_result"
    }
   ],
   "source": [
    "import joblib\n",
    "\n",
    "# Preprocess data\n",
    "vectorizer = TfidfVectorizer(stop_words='english')\n",
    "X = vectorizer.fit_transform(data['EmailText'])\n",
    "y = data['Label'].map({'ham': 0, 'spam': 1})\n",
    "\n",
    "# Save the vectorizer as a pickle file\n",
    "joblib.dump(vectorizer, 'vectorizer.pkl')"
   ]
  },
  {
   "cell_type": "code",
   "execution_count": 45,
   "metadata": {},
   "outputs": [],
   "source": [
    "# Handle missing values in the target variable\n",
    "y = data['Label'].dropna()\n",
    "\n",
    "# Ensure X and y have the same length after dropping NaNs\n",
    "X = X[data['Label'].notna()]\n",
    "\n",
    "# Split data\n",
    "X_train, X_test, y_train, y_test = train_test_split(X, y, test_size=0.2, random_state=42)"
   ]
  },
  {
   "cell_type": "code",
   "execution_count": 46,
   "metadata": {},
   "outputs": [
    {
     "data": {
      "text/plain": [
       "['model.pkl']"
      ]
     },
     "execution_count": 46,
     "metadata": {},
     "output_type": "execute_result"
    }
   ],
   "source": [
    "import joblib\n",
    "\n",
    "# Train SVM with linear kernel\n",
    "svm_linear = SVC(kernel='linear')\n",
    "svm_linear.fit(X_train, y_train)\n",
    "y_pred_svm_linear = svm_linear.predict(X_test)\n",
    "# Save the linear kernel model\n",
    "joblib.dump(svm_linear, 'model.pkl')\n"
   ]
  },
  {
   "cell_type": "code",
   "execution_count": 47,
   "metadata": {},
   "outputs": [],
   "source": [
    "# Train SVM with RBF kernel\n",
    "svm_rbf = SVC(kernel='rbf')\n",
    "svm_rbf.fit(X_train, y_train)\n",
    "y_pred_svm_rbf = svm_rbf.predict(X_test)"
   ]
  },
  {
   "cell_type": "code",
   "execution_count": 48,
   "metadata": {},
   "outputs": [],
   "source": [
    "# Train Naive Bayes\n",
    "nb = MultinomialNB()\n",
    "nb.fit(X_train, y_train)\n",
    "y_pred_nb = nb.predict(X_test)"
   ]
  },
  {
   "cell_type": "code",
   "execution_count": 49,
   "metadata": {},
   "outputs": [],
   "source": [
    "# Train Logistic Regression\n",
    "lr = LogisticRegression()\n",
    "lr.fit(X_train, y_train)\n",
    "y_pred_lr = lr.predict(X_test)"
   ]
  },
  {
   "cell_type": "code",
   "execution_count": 50,
   "metadata": {},
   "outputs": [
    {
     "name": "stdout",
     "output_type": "stream",
     "text": [
      "SVM (Linear Kernel) Classification Report:\n",
      "              precision    recall  f1-score   support\n",
      "\n",
      "           0       0.99      1.00      0.99       856\n",
      "           1       0.99      0.97      0.98       290\n",
      "\n",
      "    accuracy                           0.99      1146\n",
      "   macro avg       0.99      0.99      0.99      1146\n",
      "weighted avg       0.99      0.99      0.99      1146\n",
      "\n",
      "SVM (RBF Kernel) Classification Report:\n",
      "              precision    recall  f1-score   support\n",
      "\n",
      "           0       0.98      1.00      0.99       856\n",
      "           1       0.99      0.95      0.97       290\n",
      "\n",
      "    accuracy                           0.99      1146\n",
      "   macro avg       0.99      0.97      0.98      1146\n",
      "weighted avg       0.99      0.99      0.99      1146\n",
      "\n"
     ]
    }
   ],
   "source": [
    "# Evaluate models\n",
    "print(\"SVM (Linear Kernel) Classification Report:\")\n",
    "print(classification_report(y_test, y_pred_svm_linear))\n",
    "\n",
    "print(\"SVM (RBF Kernel) Classification Report:\")\n",
    "print(classification_report(y_test, y_pred_svm_rbf))\n",
    "\n"
   ]
  },
  {
   "cell_type": "code",
   "execution_count": 51,
   "metadata": {},
   "outputs": [
    {
     "name": "stdout",
     "output_type": "stream",
     "text": [
      "Naive Bayes Classification Report:\n",
      "              precision    recall  f1-score   support\n",
      "\n",
      "           0       0.88      1.00      0.94       856\n",
      "           1       1.00      0.60      0.75       290\n",
      "\n",
      "    accuracy                           0.90      1146\n",
      "   macro avg       0.94      0.80      0.84      1146\n",
      "weighted avg       0.91      0.90      0.89      1146\n",
      "\n",
      "Logistic Regression Classification Report:\n",
      "              precision    recall  f1-score   support\n",
      "\n",
      "           0       0.96      1.00      0.98       856\n",
      "           1       1.00      0.89      0.94       290\n",
      "\n",
      "    accuracy                           0.97      1146\n",
      "   macro avg       0.98      0.94      0.96      1146\n",
      "weighted avg       0.97      0.97      0.97      1146\n",
      "\n"
     ]
    }
   ],
   "source": [
    "print(\"Naive Bayes Classification Report:\")\n",
    "print(classification_report(y_test, y_pred_nb))\n",
    "\n",
    "print(\"Logistic Regression Classification Report:\")\n",
    "print(classification_report(y_test, y_pred_lr))"
   ]
  }
 ],
 "metadata": {
  "kernelspec": {
   "display_name": "Python 3",
   "language": "python",
   "name": "python3"
  },
  "language_info": {
   "codemirror_mode": {
    "name": "ipython",
    "version": 3
   },
   "file_extension": ".py",
   "mimetype": "text/x-python",
   "name": "python",
   "nbconvert_exporter": "python",
   "pygments_lexer": "ipython3",
   "version": "3.10.7"
  }
 },
 "nbformat": 4,
 "nbformat_minor": 2
}
